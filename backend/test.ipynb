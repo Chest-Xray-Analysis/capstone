{
 "cells": [
  {
   "cell_type": "code",
   "execution_count": 1,
   "metadata": {
    "ExecuteTime": {
     "end_time": "2024-11-18T17:24:33.289581Z",
     "start_time": "2024-11-18T17:24:30.971347Z"
    }
   },
   "outputs": [],
   "source": [
    "import os\n",
    "import sys\n",
    "import itertools\n",
    "import random\n",
    "import glob\n",
    "import tqdm\n",
    "import numpy as np\n",
    "import pandas as pd\n",
    "import seaborn as sns\n",
    "import matplotlib.pyplot as plt\n",
    "from sklearn.model_selection import train_test_split\n",
    "import torch\n",
    "from torch.utils.data import Dataset, DataLoader \n",
    "import torch.nn as nn\n",
    "import torchvision\n",
    "from torchvision import transforms\n",
    "import torchvision.models as models\n",
    "from icecream import ic\n",
    "\n",
    "from PIL import Image\n",
    "from classes.NIH_dataset_class import NIH_dataset\n",
    "from classes.Metrics_class import Metrics\n",
    "\n"
   ]
  },
  {
   "cell_type": "markdown",
   "metadata": {},
   "source": [
    "# Load data"
   ]
  },
  {
   "cell_type": "code",
   "execution_count": 2,
   "metadata": {},
   "outputs": [
    {
     "name": "stderr",
     "output_type": "stream",
     "text": [
      "C:\\Users\\suvan\\AppData\\Local\\Temp\\ipykernel_48804\\1808444168.py:14: FutureWarning: You are using `torch.load` with `weights_only=False` (the current default value), which uses the default pickle module implicitly. It is possible to construct malicious pickle data which will execute arbitrary code during unpickling (See https://github.com/pytorch/pytorch/blob/main/SECURITY.md#untrusted-models for more details). In a future release, the default value for `weights_only` will be flipped to `True`. This limits the functions that could be executed during unpickling. Arbitrary objects will no longer be allowed to be loaded via this mode unless they are explicitly allowlisted by the user via `torch.serialization.add_safe_globals`. We recommend you start setting `weights_only=True` for any use case where you don't have full control of the loaded file. Please open an issue on GitHub for any issues related to this experimental feature.\n",
      "  model = torch.load('ResNet_50 epochs_0.0001 lr_512 batch_size.pth')\n"
     ]
    }
   ],
   "source": [
    "## Hyperparameters\n",
    "device = torch.device('cuda' if torch.cuda.is_available() else 'cpu')\n",
    "\n",
    "batch_size = 512\n",
    "\n",
    "# Select images paths\n",
    "DATA_DIR = os.path.join(os.getcwd(), 'dataset')\n",
    "image_paths = glob.glob(os.path.join(DATA_DIR, 'images_*', 'images', '*.png'))\n",
    "\n",
    "# Load the data frame to run inference\n",
    "test_df = pd.read_pickle(\"test_df.pkl\")\n",
    "\n",
    "# Load the model\n",
    "model = torch.load('ResNet_50 epochs_0.0001 lr_512 batch_size.pth')\n",
    "model.to(device)\n",
    "\n",
    "# Loss function\n",
    "criterion = nn.CrossEntropyLoss()\n",
    "\n",
    "# Transforms\n",
    "transform = transforms.Compose([\n",
    "    transforms.Resize(224),\n",
    "    transforms.ToTensor(),\n",
    "    transforms.Normalize([0.485], [0.229])\n",
    "])\n",
    "\n",
    "# Mapping from disease to number\n",
    "# disease_to_number = {'Cardiomegaly': 0,\n",
    "#                     'Emphysema': 1,\n",
    "#                     'Effusion': 2,\n",
    "#                     'Hernia': 3,\n",
    "#                     'Infiltration': 4,\n",
    "#                     'Mass': 5,\n",
    "#                     'Nodule': 6,\n",
    "#                     'Atelectasis': 7,\n",
    "#                     'Pneumothorax': 8,\n",
    "#                     'Pleural_Thickening': 9,\n",
    "#                     'Pneumonia': 10,\n",
    "#                     'Fibrosis': 11,\n",
    "#                     'Edema': 12,\n",
    "#                     'Consolidation': 13}\n",
    "\n",
    "disease_to_number = {'Cardiomegaly': 0,\n",
    "                    'Emphysema': 1,\n",
    "                    'Effusion': 2,\n",
    "                    'No Finding': 3,\n",
    "                    'Hernia': 4,\n",
    "                    'Infiltration': 5,\n",
    "                    'Mass': 6,\n",
    "                    'Nodule': 7,\n",
    "                    'Atelectasis': 8,\n",
    "                    'Pneumothorax': 9,\n",
    "                    'Pleural_Thickening': 10,\n",
    "                    'Pneumonia': 11,\n",
    "                    'Fibrosis': 12,\n",
    "                    'Edema': 13,\n",
    "                    'Consolidation': 14}"
   ]
  },
  {
   "cell_type": "code",
   "execution_count": 3,
   "metadata": {},
   "outputs": [],
   "source": [
    "test_dataset = NIH_dataset(test_df, image_paths, transform=transform)\n",
    "test_loader = DataLoader(test_dataset, batch_size=batch_size, shuffle=True)"
   ]
  },
  {
   "cell_type": "code",
   "execution_count": 4,
   "metadata": {
    "ExecuteTime": {
     "end_time": "2024-11-18T17:26:27.251565Z",
     "start_time": "2024-11-18T17:26:27.089874Z"
    }
   },
   "outputs": [],
   "source": [
    "def test(test_loader: DataLoader, model: nn.Module, criterion: nn.Module) -> tuple[nn.Module, Metrics]:\n",
    "    metrics = Metrics(test_mode=True)\n",
    "    # Testing loop\n",
    "    with torch.no_grad():\n",
    "        for inputs, labels in tqdm.tqdm(test_loader, desc=\"Testing Batches\"):\n",
    "\n",
    "            inputs = inputs.to(device)\n",
    "            labels = torch.tensor([disease_to_number[label] for label in labels]).to(device)\n",
    "            \n",
    "            outputs = model(inputs)\n",
    "            max_logits, out_lab = torch.max(outputs, 1)\n",
    "            loss = criterion(outputs, labels)\n",
    "\n",
    "            metrics.compute(labels.cpu(), out_lab.cpu(), loss=loss)\n",
    "        return model, metrics"
   ]
  },
  {
   "cell_type": "code",
   "execution_count": 5,
   "metadata": {},
   "outputs": [
    {
     "name": "stderr",
     "output_type": "stream",
     "text": [
      "Testing Batches: 100%|██████████| 56/56 [05:50<00:00,  6.26s/it]"
     ]
    },
    {
     "name": "stdout",
     "output_type": "stream",
     "text": [
      "            Avg loss: 3.2106\n",
      "                    Avg accuracy: 0.3725\n",
      "                    Avg precision: 0.1231\n",
      "                    Avg recall: 0.1218\n",
      "                    Avg f1: 0.1201\n"
     ]
    },
    {
     "name": "stderr",
     "output_type": "stream",
     "text": [
      "\n"
     ]
    }
   ],
   "source": [
    "model, metrics = test(test_loader=test_loader, model=model, criterion=criterion)\n",
    "\n",
    "print(metrics)\n",
    "# metrics.plot(show=True)"
   ]
  }
 ],
 "metadata": {
  "kernelspec": {
   "display_name": ".venv",
   "language": "python",
   "name": "python3"
  },
  "language_info": {
   "codemirror_mode": {
    "name": "ipython",
    "version": 3
   },
   "file_extension": ".py",
   "mimetype": "text/x-python",
   "name": "python",
   "nbconvert_exporter": "python",
   "pygments_lexer": "ipython3",
   "version": "3.12.7"
  }
 },
 "nbformat": 4,
 "nbformat_minor": 4
}
